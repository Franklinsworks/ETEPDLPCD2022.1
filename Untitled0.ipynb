{
  "nbformat": 4,
  "nbformat_minor": 0,
  "metadata": {
    "colab": {
      "name": "Untitled0.ipynb",
      "provenance": [],
      "authorship_tag": "ABX9TyPXgTTo5+CjZujj3EqvjC8d",
      "include_colab_link": true
    },
    "kernelspec": {
      "name": "python3",
      "display_name": "Python 3"
    },
    "language_info": {
      "name": "python"
    }
  },
  "cells": [
    {
      "cell_type": "markdown",
      "metadata": {
        "id": "view-in-github",
        "colab_type": "text"
      },
      "source": [
        "<a href=\"https://colab.research.google.com/github/Franklinsworks/ETEPDLPCD2022.1/blob/main/Untitled0.ipynb\" target=\"_parent\"><img src=\"https://colab.research.google.com/assets/colab-badge.svg\" alt=\"Open In Colab\"/></a>"
      ]
    },
    {
      "cell_type": "code",
      "execution_count": 4,
      "metadata": {
        "colab": {
          "base_uri": "https://localhost:8080/"
        },
        "id": "sGrPCbFpX59G",
        "outputId": "ef97c38f-bf87-4948-d4eb-d8a3f1e34e44"
      },
      "outputs": [
        {
          "output_type": "stream",
          "name": "stdout",
          "text": [
            "Fábio\n",
            "Fábiana\n",
            "Danielle\n",
            "Joice\n"
          ]
        }
      ],
      "source": [
        "# ETE PORTO DIGITAL\n",
        "# PROFESSOR CLOVES ROCHA\n",
        "# ESTUDANTE: TARCÍSIO FRANKLIN PEREIRA\n",
        "\n",
        "nomes = ['Fábio', 'Fábiana', 'Danielle', 'Joice']\n",
        "for n in nomes:\n",
        "  print(n)"
      ]
    }
  ]
}