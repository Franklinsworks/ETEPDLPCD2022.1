{
  "nbformat": 4,
  "nbformat_minor": 0,
  "metadata": {
    "colab": {
      "name": "Untitled0.ipynb",
      "provenance": [],
      "authorship_tag": "ABX9TyPTQzXBCO2MyxZxW4Bb3l+E",
      "include_colab_link": true
    },
    "kernelspec": {
      "name": "python3",
      "display_name": "Python 3"
    },
    "language_info": {
      "name": "python"
    }
  },
  "cells": [
    {
      "cell_type": "markdown",
      "metadata": {
        "id": "view-in-github",
        "colab_type": "text"
      },
      "source": [
        "<a href=\"https://colab.research.google.com/github/Franklinsworks/ETEPDLPCD2022.1/blob/main/Aula07.03.22Untitled0.ipynb\" target=\"_parent\"><img src=\"https://colab.research.google.com/assets/colab-badge.svg\" alt=\"Open In Colab\"/></a>"
      ]
    },
    {
      "cell_type": "code",
      "execution_count": 6,
      "metadata": {
        "colab": {
          "base_uri": "https://localhost:8080/"
        },
        "id": "sGrPCbFpX59G",
        "outputId": "1167b6bb-d4fc-4b75-a97d-5cf488a8f9a9"
      },
      "outputs": [
        {
          "output_type": "stream",
          "name": "stdout",
          "text": [
            "Fábio\n",
            "Fábiana\n",
            "Danielle\n",
            "Joice\n"
          ]
        }
      ],
      "source": [
        "# ETE PORTO DIGITAL 2022.1\n",
        "# PROFESSOR CLOVES ROCHA\n",
        "# ESTUDANTE: TARCÍSIO FRANKLIN PEREIRA\n",
        "\n",
        "nomes = ['Fábio', 'Fábiana', 'Danielle', 'Joice']\n",
        "for n in nomes:\n",
        "  print(n)"
      ]
    }
  ]
}